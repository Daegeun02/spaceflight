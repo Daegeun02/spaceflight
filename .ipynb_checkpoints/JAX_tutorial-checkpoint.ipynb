{
 "cells": [
  {
   "cell_type": "code",
   "execution_count": 1,
   "id": "6b8de2ab",
   "metadata": {
    "scrolled": true
   },
   "outputs": [
    {
     "name": "stdout",
     "output_type": "stream",
     "text": [
      "/Users/daegeun/opt/anaconda3/envs/napy/bin/python\n"
     ]
    }
   ],
   "source": [
    "import sys\n",
    "print(sys.executable)"
   ]
  },
  {
   "cell_type": "code",
   "execution_count": 2,
   "id": "d31d6b01",
   "metadata": {},
   "outputs": [
    {
     "name": "stdout",
     "output_type": "stream",
     "text": [
      "['/Users/daegeun/Documents/spaceflight', '/Users/daegeun/opt/anaconda3/envs/napy/lib/python310.zip', '/Users/daegeun/opt/anaconda3/envs/napy/lib/python3.10', '/Users/daegeun/opt/anaconda3/envs/napy/lib/python3.10/lib-dynload', '', '/Users/daegeun/opt/anaconda3/envs/napy/lib/python3.10/site-packages', '/Users/daegeun/opt/anaconda3/envs/napy/lib/python3.10/site-packages/PyQt5_sip-12.11.0-py3.10-macosx-10.9-x86_64.egg']\n"
     ]
    }
   ],
   "source": [
    "print(sys.path)"
   ]
  },
  {
   "cell_type": "code",
   "execution_count": 21,
   "id": "40dc60d9",
   "metadata": {},
   "outputs": [],
   "source": [
    "import jax\n",
    "import jax.numpy as jnp\n",
    "from jax.numpy import sin, cos\n",
    "from jax.numpy import pi"
   ]
  },
  {
   "cell_type": "code",
   "execution_count": 4,
   "id": "be965c93",
   "metadata": {},
   "outputs": [
    {
     "name": "stdout",
     "output_type": "stream",
     "text": [
      "[0 1 2 3 4 5 6 7 8 9]\n"
     ]
    }
   ],
   "source": [
    "x = jnp.arange( 10 )\n",
    "\n",
    "print( x )"
   ]
  },
  {
   "cell_type": "code",
   "execution_count": 5,
   "id": "522ba289",
   "metadata": {},
   "outputs": [
    {
     "data": {
      "text/plain": [
       "DeviceArray([0, 1, 2, 3, 4, 5, 6, 7, 8, 9], dtype=int32)"
      ]
     },
     "execution_count": 5,
     "metadata": {},
     "output_type": "execute_result"
    }
   ],
   "source": [
    "x"
   ]
  },
  {
   "cell_type": "code",
   "execution_count": 6,
   "id": "4c7ac480",
   "metadata": {},
   "outputs": [
    {
     "name": "stdout",
     "output_type": "stream",
     "text": [
      "7.13 ms ± 11.1 µs per loop (mean ± std. dev. of 7 runs, 100 loops each)\n"
     ]
    }
   ],
   "source": [
    "long_vector = jnp.arange( int( 1e7 ) )\n",
    "\n",
    "%timeit jnp.dot( long_vector, long_vector )"
   ]
  },
  {
   "cell_type": "code",
   "execution_count": 7,
   "id": "7a1b1c8c",
   "metadata": {},
   "outputs": [],
   "source": [
    "def sum_of_squares( x ):\n",
    "    return jnp.sum( x ** 2 )"
   ]
  },
  {
   "cell_type": "code",
   "execution_count": 8,
   "id": "548b9da5",
   "metadata": {},
   "outputs": [
    {
     "name": "stdout",
     "output_type": "stream",
     "text": [
      "30.0\n",
      "[2. 4. 6. 8.]\n"
     ]
    }
   ],
   "source": [
    "sum_of_squares_dx = jax.grad( sum_of_squares )\n",
    "\n",
    "x = jnp.asarray( [ 1.0, 2.0, 3.0, 4.0 ] )\n",
    "\n",
    "print( sum_of_squares( x ) )\n",
    "\n",
    "print( sum_of_squares_dx( x ) )"
   ]
  },
  {
   "cell_type": "code",
   "execution_count": 9,
   "id": "8bebbbd6",
   "metadata": {},
   "outputs": [],
   "source": [
    "def sum_squared_error( x, y ):\n",
    "    return jnp.sum( (x - y) ** 2 )"
   ]
  },
  {
   "cell_type": "code",
   "execution_count": 10,
   "id": "2fb193ea",
   "metadata": {},
   "outputs": [
    {
     "name": "stdout",
     "output_type": "stream",
     "text": [
      "[-0.20000005 -0.19999981 -0.19999981 -0.19999981]\n"
     ]
    }
   ],
   "source": [
    "sum_squared_error_dx = jax.grad( sum_squared_error )\n",
    "\n",
    "y = jnp.asarray( [1.1, 2.1, 3.1, 4.1] )\n",
    "\n",
    "print( sum_squared_error_dx( x, y ) )"
   ]
  },
  {
   "cell_type": "code",
   "execution_count": 11,
   "id": "44f07ee7",
   "metadata": {},
   "outputs": [
    {
     "data": {
      "text/plain": [
       "(DeviceArray([-0.20000005, -0.19999981, -0.19999981, -0.19999981], dtype=float32),\n",
       " DeviceArray([0.20000005, 0.19999981, 0.19999981, 0.19999981], dtype=float32))"
      ]
     },
     "execution_count": 11,
     "metadata": {},
     "output_type": "execute_result"
    }
   ],
   "source": [
    "jax.grad(sum_squared_error, argnums=(0, 1))( x, y )"
   ]
  },
  {
   "cell_type": "code",
   "execution_count": 12,
   "id": "40761c68",
   "metadata": {},
   "outputs": [],
   "source": [
    "import jaxopt"
   ]
  },
  {
   "cell_type": "code",
   "execution_count": 13,
   "id": "59db5955",
   "metadata": {},
   "outputs": [],
   "source": [
    "from jaxopt import LevenbergMarquardt"
   ]
  },
  {
   "cell_type": "code",
   "execution_count": 14,
   "id": "804a93a5",
   "metadata": {},
   "outputs": [],
   "source": [
    "T = 16.194164291066627 \n",
    "q = -0.17308308096941216"
   ]
  },
  {
   "cell_type": "code",
   "execution_count": 57,
   "id": "421a1659",
   "metadata": {},
   "outputs": [],
   "source": [
    "out = jnp.array( [0, 0], dtype=jnp.float32 )\n",
    "\n",
    "def func( x, q ):\n",
    "    \n",
    "    a, b = x\n",
    "    \n",
    "    O1 = out.at[0].set( sin( b / 2 ) - q * sin( a / 2 ) )\n",
    "    O2 = O1.at[1].set( T * ( sin( a / 2 ) ** 3 ) - ( a - b - sin( a ) + sin( b ) ) )\n",
    "    \n",
    "    return O2"
   ]
  },
  {
   "cell_type": "code",
   "execution_count": 58,
   "id": "1930a5a7",
   "metadata": {},
   "outputs": [
    {
     "data": {
      "text/plain": [
       "DeviceArray([ 4.7135043 , -0.24458043], dtype=float32)"
      ]
     },
     "execution_count": 58,
     "metadata": {},
     "output_type": "execute_result"
    }
   ],
   "source": [
    "init_params = jnp.array( [pi, 0] )\n",
    "\n",
    "solution = LevenbergMarquardt( func ).run( init_params, -0.173 ).params\n",
    "\n",
    "solution"
   ]
  },
  {
   "cell_type": "code",
   "execution_count": 59,
   "id": "54a43cb6",
   "metadata": {},
   "outputs": [
    {
     "name": "stdout",
     "output_type": "stream",
     "text": [
      "[-4.8518003e-04  1.4245435e+00]\n"
     ]
    }
   ],
   "source": [
    "def solution( y ):\n",
    "    \n",
    "    LM = LevenbergMarquardt( func )\n",
    "    sl = LM.run( init_params, y ).params\n",
    "    \n",
    "    return sl\n",
    "    \n",
    "print( jax.jacobian( solution )( -0.173 ) )"
   ]
  },
  {
   "cell_type": "code",
   "execution_count": 54,
   "id": "05ff2b94",
   "metadata": {},
   "outputs": [
    {
     "data": {
      "text/plain": [
       "2"
      ]
     },
     "execution_count": 54,
     "metadata": {},
     "output_type": "execute_result"
    }
   ],
   "source": [
    "len( init_values )"
   ]
  },
  {
   "cell_type": "code",
   "execution_count": 60,
   "id": "4200e8d0",
   "metadata": {},
   "outputs": [
    {
     "data": {
      "text/plain": [
       "DeviceArray([ 4.7135    , -0.24600174], dtype=float32)"
      ]
     },
     "execution_count": 60,
     "metadata": {},
     "output_type": "execute_result"
    }
   ],
   "source": [
    "solution = LevenbergMarquardt( func ).run( init_params, -0.174 ).params\n",
    "\n",
    "solution"
   ]
  },
  {
   "cell_type": "code",
   "execution_count": 61,
   "id": "354d747f",
   "metadata": {},
   "outputs": [],
   "source": [
    "from jax.numpy import exp \n",
    "\n",
    "\n",
    "def func( X, t ):\n",
    "    \n",
    "    x, y = X\n",
    "    \n",
    "    O1 = out.at[0].set( exp( y+t ) - x )\n",
    "    O2 = O1.at[1].set( exp( x+t ) + y )\n",
    "    \n",
    "    return O2"
   ]
  },
  {
   "cell_type": "code",
   "execution_count": 62,
   "id": "b91dc5eb",
   "metadata": {},
   "outputs": [
    {
     "data": {
      "text/plain": [
       "DeviceArray([ 0.1249296, -3.0799994], dtype=float32)"
      ]
     },
     "execution_count": 62,
     "metadata": {},
     "output_type": "execute_result"
    }
   ],
   "source": [
    "init_params = jnp.array( [0.0, 0.0] )\n",
    "\n",
    "solution = LevenbergMarquardt( func ).run( init_params, 1 ).params\n",
    "\n",
    "solution"
   ]
  },
  {
   "cell_type": "code",
   "execution_count": 63,
   "id": "e7a2ff1f",
   "metadata": {},
   "outputs": [
    {
     "data": {
      "text/plain": [
       "DeviceArray(-3.0799994, dtype=float32)"
      ]
     },
     "execution_count": 63,
     "metadata": {},
     "output_type": "execute_result"
    }
   ],
   "source": [
    "y = solution[1]\n",
    "\n",
    "y"
   ]
  },
  {
   "cell_type": "code",
   "execution_count": 72,
   "id": "9f286c0c",
   "metadata": {},
   "outputs": [],
   "source": [
    "pxpt = ( 1 - exp( x+1 ) ) / ( 1/x + exp( x+1 ) )\n",
    "pypt = ( 1 + exp( y+1 ) ) / ( 1/y - exp( y+1 ) )"
   ]
  },
  {
   "cell_type": "code",
   "execution_count": 67,
   "id": "7efc84b1",
   "metadata": {},
   "outputs": [
    {
     "name": "stdout",
     "output_type": "stream",
     "text": [
      "[-0.18764925 -2.5020378 ]\n"
     ]
    }
   ],
   "source": [
    "def solution( t ):\n",
    "    \n",
    "    LM = LevenbergMarquardt( func )\n",
    "    sl = LM.run( init_params, t ).params\n",
    "    \n",
    "    return sl\n",
    "\n",
    "print( jax.jacobian( solution )( 1.0 ) )"
   ]
  },
  {
   "cell_type": "code",
   "execution_count": 73,
   "id": "b445aab3",
   "metadata": {},
   "outputs": [
    {
     "name": "stdout",
     "output_type": "stream",
     "text": [
      "-2.5020375\n"
     ]
    }
   ],
   "source": [
    "print( pypt )"
   ]
  },
  {
   "cell_type": "code",
   "execution_count": null,
   "id": "e06bfaf7",
   "metadata": {},
   "outputs": [],
   "source": []
  }
 ],
 "metadata": {
  "kernelspec": {
   "display_name": "Python 3 (ipykernel)",
   "language": "python",
   "name": "python3"
  },
  "language_info": {
   "codemirror_mode": {
    "name": "ipython",
    "version": 3
   },
   "file_extension": ".py",
   "mimetype": "text/x-python",
   "name": "python",
   "nbconvert_exporter": "python",
   "pygments_lexer": "ipython3",
   "version": "3.10.11"
  }
 },
 "nbformat": 4,
 "nbformat_minor": 5
}
