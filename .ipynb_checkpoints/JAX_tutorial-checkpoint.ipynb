{
 "cells": [
  {
   "cell_type": "code",
   "execution_count": 1,
   "id": "6b8de2ab",
   "metadata": {
    "scrolled": true
   },
   "outputs": [
    {
     "name": "stdout",
     "output_type": "stream",
     "text": [
      "/Users/daegeun/opt/anaconda3/envs/napy/bin/python\n"
     ]
    }
   ],
   "source": [
    "import sys\n",
    "print(sys.executable)"
   ]
  },
  {
   "cell_type": "code",
   "execution_count": 2,
   "id": "d31d6b01",
   "metadata": {},
   "outputs": [
    {
     "name": "stdout",
     "output_type": "stream",
     "text": [
      "['/Users/daegeun/Documents/spaceflight', '/Users/daegeun/opt/anaconda3/envs/napy/lib/python310.zip', '/Users/daegeun/opt/anaconda3/envs/napy/lib/python3.10', '/Users/daegeun/opt/anaconda3/envs/napy/lib/python3.10/lib-dynload', '', '/Users/daegeun/opt/anaconda3/envs/napy/lib/python3.10/site-packages', '/Users/daegeun/opt/anaconda3/envs/napy/lib/python3.10/site-packages/PyQt5_sip-12.11.0-py3.10-macosx-10.9-x86_64.egg']\n"
     ]
    }
   ],
   "source": [
    "print(sys.path)"
   ]
  },
  {
   "cell_type": "code",
   "execution_count": 21,
   "id": "40dc60d9",
   "metadata": {},
   "outputs": [],
   "source": [
    "import jax\n",
    "import jax.numpy as jnp\n",
    "from jax.numpy import sin, cos\n",
    "from jax.numpy import pi"
   ]
  },
  {
   "cell_type": "code",
   "execution_count": 4,
   "id": "be965c93",
   "metadata": {},
   "outputs": [
    {
     "name": "stdout",
     "output_type": "stream",
     "text": [
      "[0 1 2 3 4 5 6 7 8 9]\n"
     ]
    }
   ],
   "source": [
    "x = jnp.arange( 10 )\n",
    "\n",
    "print( x )"
   ]
  },
  {
   "cell_type": "code",
   "execution_count": 5,
   "id": "522ba289",
   "metadata": {},
   "outputs": [
    {
     "data": {
      "text/plain": [
       "DeviceArray([0, 1, 2, 3, 4, 5, 6, 7, 8, 9], dtype=int32)"
      ]
     },
     "execution_count": 5,
     "metadata": {},
     "output_type": "execute_result"
    }
   ],
   "source": [
    "x"
   ]
  },
  {
   "cell_type": "code",
   "execution_count": 6,
   "id": "4c7ac480",
   "metadata": {},
   "outputs": [
    {
     "name": "stdout",
     "output_type": "stream",
     "text": [
      "7.13 ms ± 11.1 µs per loop (mean ± std. dev. of 7 runs, 100 loops each)\n"
     ]
    }
   ],
   "source": [
    "long_vector = jnp.arange( int( 1e7 ) )\n",
    "\n",
    "%timeit jnp.dot( long_vector, long_vector )"
   ]
  },
  {
   "cell_type": "code",
   "execution_count": 81,
   "id": "7a1b1c8c",
   "metadata": {},
   "outputs": [],
   "source": [
    "def sum_of_squares( x ):\n",
    "    return jnp.sum( x ** 2 )"
   ]
  },
  {
   "cell_type": "code",
   "execution_count": 82,
   "id": "548b9da5",
   "metadata": {},
   "outputs": [
    {
     "name": "stdout",
     "output_type": "stream",
     "text": [
      "30.0\n",
      "[2. 4. 6. 8.]\n"
     ]
    }
   ],
   "source": [
    "sum_of_squares_dx = jax.grad( sum_of_squares )\n",
    "\n",
    "x = jnp.asarray( [ 1.0, 2.0, 3.0, 4.0 ] )\n",
    "\n",
    "print( sum_of_squares( x ) )\n",
    "\n",
    "print( sum_of_squares_dx( x ) )"
   ]
  },
  {
   "cell_type": "code",
   "execution_count": 83,
   "id": "8bebbbd6",
   "metadata": {},
   "outputs": [],
   "source": [
    "def sum_squared_error( x, y ):\n",
    "    return jnp.sum( (x - y) ** 2 )"
   ]
  },
  {
   "cell_type": "code",
   "execution_count": 84,
   "id": "2fb193ea",
   "metadata": {},
   "outputs": [
    {
     "name": "stdout",
     "output_type": "stream",
     "text": [
      "[-0.20000005 -0.19999981 -0.19999981 -0.19999981]\n"
     ]
    }
   ],
   "source": [
    "sum_squared_error_dx = jax.grad( sum_squared_error )\n",
    "\n",
    "y = jnp.asarray( [1.1, 2.1, 3.1, 4.1] )\n",
    "\n",
    "print( sum_squared_error_dx( x, y ) )"
   ]
  },
  {
   "cell_type": "code",
   "execution_count": 85,
   "id": "59fa366a",
   "metadata": {},
   "outputs": [
    {
     "name": "stdout",
     "output_type": "stream",
     "text": [
      "[0.20000005 0.19999981 0.19999981 0.19999981]\n"
     ]
    }
   ],
   "source": [
    "print( sum_squared_error_dx( y, x ) )"
   ]
  },
  {
   "cell_type": "code",
   "execution_count": 86,
   "id": "44f07ee7",
   "metadata": {},
   "outputs": [
    {
     "data": {
      "text/plain": [
       "(DeviceArray([-0.20000005, -0.19999981, -0.19999981, -0.19999981], dtype=float32),\n",
       " DeviceArray([0.20000005, 0.19999981, 0.19999981, 0.19999981], dtype=float32))"
      ]
     },
     "execution_count": 86,
     "metadata": {},
     "output_type": "execute_result"
    }
   ],
   "source": [
    "jax.grad(sum_squared_error, argnums=(0, 1))( x, y )"
   ]
  },
  {
   "cell_type": "code",
   "execution_count": 12,
   "id": "40761c68",
   "metadata": {},
   "outputs": [],
   "source": [
    "import jaxopt"
   ]
  },
  {
   "cell_type": "code",
   "execution_count": 13,
   "id": "59db5955",
   "metadata": {},
   "outputs": [],
   "source": [
    "from jaxopt import LevenbergMarquardt"
   ]
  },
  {
   "cell_type": "code",
   "execution_count": 14,
   "id": "804a93a5",
   "metadata": {},
   "outputs": [],
   "source": [
    "T = 16.194164291066627 \n",
    "q = -0.17308308096941216"
   ]
  },
  {
   "cell_type": "code",
   "execution_count": 91,
   "id": "421a1659",
   "metadata": {},
   "outputs": [],
   "source": [
    "out = jnp.array( [0, 0], dtype=jnp.float32 )\n",
    "\n",
    "def func( x, q ):\n",
    "    \n",
    "    a, b = x\n",
    "    \n",
    "    O1 = out.at[0].set( sin( b / 2 ) - q * sin( a / 2 ) )\n",
    "    O2 = O1.at[1].set( T * ( sin( a / 2 ) ** 3 ) - ( a - b - sin( a ) + sin( b ) ) )\n",
    "    \n",
    "    return O2"
   ]
  },
  {
   "cell_type": "code",
   "execution_count": 92,
   "id": "1930a5a7",
   "metadata": {},
   "outputs": [
    {
     "data": {
      "text/plain": [
       "DeviceArray([ 4.7135043 , -0.24458043], dtype=float32)"
      ]
     },
     "execution_count": 92,
     "metadata": {},
     "output_type": "execute_result"
    }
   ],
   "source": [
    "init_params = jnp.array( [pi, 0] )\n",
    "\n",
    "solution = LevenbergMarquardt( func ).run( init_params, -0.173 ).params\n",
    "\n",
    "solution"
   ]
  },
  {
   "cell_type": "code",
   "execution_count": 59,
   "id": "54a43cb6",
   "metadata": {},
   "outputs": [
    {
     "name": "stdout",
     "output_type": "stream",
     "text": [
      "[-4.8518003e-04  1.4245435e+00]\n"
     ]
    }
   ],
   "source": [
    "def solution( y ):\n",
    "    \n",
    "    LM = LevenbergMarquardt( func )\n",
    "    sl = LM.run( init_params, y ).params\n",
    "    \n",
    "    return sl\n",
    "    \n",
    "print( jax.jacobian( solution )( -0.173 ) )"
   ]
  },
  {
   "cell_type": "code",
   "execution_count": 54,
   "id": "05ff2b94",
   "metadata": {},
   "outputs": [
    {
     "data": {
      "text/plain": [
       "2"
      ]
     },
     "execution_count": 54,
     "metadata": {},
     "output_type": "execute_result"
    }
   ],
   "source": [
    "len( init_values )"
   ]
  },
  {
   "cell_type": "code",
   "execution_count": 60,
   "id": "4200e8d0",
   "metadata": {},
   "outputs": [
    {
     "data": {
      "text/plain": [
       "DeviceArray([ 4.7135    , -0.24600174], dtype=float32)"
      ]
     },
     "execution_count": 60,
     "metadata": {},
     "output_type": "execute_result"
    }
   ],
   "source": [
    "solution = LevenbergMarquardt( func ).run( init_params, -0.174 ).params\n",
    "\n",
    "solution"
   ]
  },
  {
   "cell_type": "code",
   "execution_count": 93,
   "id": "354d747f",
   "metadata": {},
   "outputs": [],
   "source": [
    "from jax.numpy import exp \n",
    "\n",
    "\n",
    "def func( X, t ):\n",
    "    \n",
    "    x, y = X\n",
    "    \n",
    "    O1 = out.at[0].set( exp( y+t ) - x )\n",
    "    O2 = O1.at[1].set( exp( x+t ) + y )\n",
    "    \n",
    "    return O2"
   ]
  },
  {
   "cell_type": "code",
   "execution_count": 96,
   "id": "3e611381",
   "metadata": {},
   "outputs": [],
   "source": [
    "from time import process_time"
   ]
  },
  {
   "cell_type": "code",
   "execution_count": 97,
   "id": "b91dc5eb",
   "metadata": {},
   "outputs": [
    {
     "name": "stdout",
     "output_type": "stream",
     "text": [
      "87.77253000000002\n"
     ]
    },
    {
     "data": {
      "text/plain": [
       "DeviceArray([ 0.1249296, -3.0799994], dtype=float32)"
      ]
     },
     "execution_count": 97,
     "metadata": {},
     "output_type": "execute_result"
    }
   ],
   "source": [
    "init_params = jnp.array( [0.0, 0.0] )\n",
    "\n",
    "t1 = process_time()\n",
    "\n",
    "for i in range( 100 ):\n",
    "    solution = LevenbergMarquardt( func ).run( init_params, 1 ).params\n",
    "\n",
    "t2 = process_time()\n",
    "\n",
    "print( t2 - t1 )\n",
    "\n",
    "solution"
   ]
  },
  {
   "cell_type": "code",
   "execution_count": 77,
   "id": "e7a2ff1f",
   "metadata": {},
   "outputs": [],
   "source": [
    "x, y = solution"
   ]
  },
  {
   "cell_type": "code",
   "execution_count": 78,
   "id": "9f286c0c",
   "metadata": {},
   "outputs": [],
   "source": [
    "pxpt = ( 1 - exp( x+1 ) ) / ( 1/x + exp( x+1 ) )\n",
    "pypt = ( 1 + exp( y+1 ) ) / ( 1/y - exp( y+1 ) )"
   ]
  },
  {
   "cell_type": "code",
   "execution_count": 79,
   "id": "472f83b9",
   "metadata": {},
   "outputs": [
    {
     "name": "stdout",
     "output_type": "stream",
     "text": [
      "[-0.18764925 -2.5020378 ]\n"
     ]
    }
   ],
   "source": [
    "def solution( t ):\n",
    "    \n",
    "    LM = LevenbergMarquardt( func )\n",
    "    sl = LM.run( init_params, t ).params\n",
    "    \n",
    "    return sl\n",
    "\n",
    "print( jax.jacobian( solution )( 1.0 ) )"
   ]
  },
  {
   "cell_type": "code",
   "execution_count": 80,
   "id": "43b5cd06",
   "metadata": {},
   "outputs": [
    {
     "name": "stdout",
     "output_type": "stream",
     "text": [
      "-0.18764928 -2.5020375\n"
     ]
    }
   ],
   "source": [
    "print( pxpt, pypt )"
   ]
  },
  {
   "cell_type": "code",
   "execution_count": 107,
   "id": "8c9d9d28",
   "metadata": {},
   "outputs": [],
   "source": [
    "A = jnp.array( [1.0, 2.0, 3.0] )\n",
    "B = jnp.array( [0.0, 0.0, 0.0] )"
   ]
  },
  {
   "cell_type": "code",
   "execution_count": 108,
   "id": "fc88a097",
   "metadata": {},
   "outputs": [],
   "source": [
    "from jax.numpy import cross"
   ]
  },
  {
   "cell_type": "code",
   "execution_count": 109,
   "id": "87997655",
   "metadata": {},
   "outputs": [],
   "source": [
    "def func( t ):\n",
    "    \n",
    "    B1 = B.at[0].set( t )\n",
    "    B2 = B1.at[1].set( t )\n",
    "    B3 = B2.at[2].set( t )\n",
    "    \n",
    "    return B3 "
   ]
  },
  {
   "cell_type": "code",
   "execution_count": 110,
   "id": "57dea6e5",
   "metadata": {},
   "outputs": [],
   "source": [
    "def function( t ):\n",
    "    \n",
    "    D = func( t )\n",
    "    \n",
    "    C = cross( A, D )\n",
    "    \n",
    "    return C"
   ]
  },
  {
   "cell_type": "code",
   "execution_count": 113,
   "id": "3e1609d6",
   "metadata": {},
   "outputs": [],
   "source": [
    "function_dx = jax.jacobian( function )"
   ]
  },
  {
   "cell_type": "code",
   "execution_count": 114,
   "id": "882b712d",
   "metadata": {},
   "outputs": [
    {
     "data": {
      "text/plain": [
       "DeviceArray([-1.,  2., -1.], dtype=float32, weak_type=True)"
      ]
     },
     "execution_count": 114,
     "metadata": {},
     "output_type": "execute_result"
    }
   ],
   "source": [
    "function_dx( 1.0 )"
   ]
  },
  {
   "cell_type": "code",
   "execution_count": 121,
   "id": "b0df900b",
   "metadata": {},
   "outputs": [],
   "source": [
    "def func( x ):\n",
    "    \n",
    "    if ( x > 0 ):\n",
    "        return x\n",
    "    if ( x < 0 ):\n",
    "        return 0.0"
   ]
  },
  {
   "cell_type": "code",
   "execution_count": 122,
   "id": "c5bcfa50",
   "metadata": {},
   "outputs": [],
   "source": [
    "func_dx = jax.grad( func )"
   ]
  },
  {
   "cell_type": "code",
   "execution_count": 123,
   "id": "dd8d0d19",
   "metadata": {},
   "outputs": [
    {
     "data": {
      "text/plain": [
       "DeviceArray(1., dtype=float32, weak_type=True)"
      ]
     },
     "execution_count": 123,
     "metadata": {},
     "output_type": "execute_result"
    }
   ],
   "source": [
    "func_dx( 1.0 )"
   ]
  },
  {
   "cell_type": "code",
   "execution_count": 124,
   "id": "0a660c1d",
   "metadata": {},
   "outputs": [
    {
     "data": {
      "text/plain": [
       "DeviceArray(1., dtype=float32, weak_type=True)"
      ]
     },
     "execution_count": 124,
     "metadata": {},
     "output_type": "execute_result"
    }
   ],
   "source": [
    "func_dx( 2.0 )"
   ]
  },
  {
   "cell_type": "code",
   "execution_count": 125,
   "id": "26f32e19",
   "metadata": {},
   "outputs": [
    {
     "ename": "TypeError",
     "evalue": "grad requires real-valued outputs (output dtype that is a sub-dtype of np.floating), but got int32. For differentiation of functions with integer outputs, use jax.vjp directly.",
     "output_type": "error",
     "traceback": [
      "\u001b[0;31m---------------------------------------------------------------------------\u001b[0m",
      "\u001b[0;31mTypeError\u001b[0m                                 Traceback (most recent call last)",
      "Cell \u001b[0;32mIn[125], line 1\u001b[0m\n\u001b[0;32m----> 1\u001b[0m \u001b[43mfunc_dx\u001b[49m\u001b[43m(\u001b[49m\u001b[43m \u001b[49m\u001b[38;5;241;43m-\u001b[39;49m\u001b[38;5;241;43m1.0\u001b[39;49m\u001b[43m \u001b[49m\u001b[43m)\u001b[49m\n",
      "    \u001b[0;31m[... skipping hidden 6 frame]\u001b[0m\n",
      "File \u001b[0;32m~/opt/anaconda3/envs/napy/lib/python3.10/site-packages/jax/_src/api.py:1233\u001b[0m, in \u001b[0;36m_check_output_dtype_revderiv\u001b[0;34m(name, holomorphic, x)\u001b[0m\n\u001b[1;32m   1227\u001b[0m   \u001b[38;5;28;01mraise\u001b[39;00m \u001b[38;5;167;01mTypeError\u001b[39;00m(\u001b[38;5;124mf\u001b[39m\u001b[38;5;124m\"\u001b[39m\u001b[38;5;132;01m{\u001b[39;00mname\u001b[38;5;132;01m}\u001b[39;00m\u001b[38;5;124m requires real-valued outputs (output dtype that is \u001b[39m\u001b[38;5;124m\"\u001b[39m\n\u001b[1;32m   1228\u001b[0m                   \u001b[38;5;124mf\u001b[39m\u001b[38;5;124m\"\u001b[39m\u001b[38;5;124ma sub-dtype of np.floating), but got \u001b[39m\u001b[38;5;132;01m{\u001b[39;00maval\u001b[38;5;241m.\u001b[39mdtype\u001b[38;5;241m.\u001b[39mname\u001b[38;5;132;01m}\u001b[39;00m\u001b[38;5;124m. \u001b[39m\u001b[38;5;124m\"\u001b[39m\n\u001b[1;32m   1229\u001b[0m                   \u001b[38;5;124m\"\u001b[39m\u001b[38;5;124mFor holomorphic differentiation, pass holomorphic=True. \u001b[39m\u001b[38;5;124m\"\u001b[39m\n\u001b[1;32m   1230\u001b[0m                   \u001b[38;5;124m\"\u001b[39m\u001b[38;5;124mFor differentiation of non-holomorphic functions involving complex \u001b[39m\u001b[38;5;124m\"\u001b[39m\n\u001b[1;32m   1231\u001b[0m                   \u001b[38;5;124m\"\u001b[39m\u001b[38;5;124moutputs, use jax.vjp directly.\u001b[39m\u001b[38;5;124m\"\u001b[39m)\n\u001b[1;32m   1232\u001b[0m \u001b[38;5;28;01melif\u001b[39;00m \u001b[38;5;129;01mnot\u001b[39;00m dtypes\u001b[38;5;241m.\u001b[39missubdtype(aval\u001b[38;5;241m.\u001b[39mdtype, np\u001b[38;5;241m.\u001b[39mfloating):\n\u001b[0;32m-> 1233\u001b[0m   \u001b[38;5;28;01mraise\u001b[39;00m \u001b[38;5;167;01mTypeError\u001b[39;00m(\u001b[38;5;124mf\u001b[39m\u001b[38;5;124m\"\u001b[39m\u001b[38;5;132;01m{\u001b[39;00mname\u001b[38;5;132;01m}\u001b[39;00m\u001b[38;5;124m requires real-valued outputs (output dtype that is \u001b[39m\u001b[38;5;124m\"\u001b[39m\n\u001b[1;32m   1234\u001b[0m                   \u001b[38;5;124mf\u001b[39m\u001b[38;5;124m\"\u001b[39m\u001b[38;5;124ma sub-dtype of np.floating), but got \u001b[39m\u001b[38;5;132;01m{\u001b[39;00maval\u001b[38;5;241m.\u001b[39mdtype\u001b[38;5;241m.\u001b[39mname\u001b[38;5;132;01m}\u001b[39;00m\u001b[38;5;124m. \u001b[39m\u001b[38;5;124m\"\u001b[39m\n\u001b[1;32m   1235\u001b[0m                   \u001b[38;5;124m\"\u001b[39m\u001b[38;5;124mFor differentiation of functions with integer outputs, use \u001b[39m\u001b[38;5;124m\"\u001b[39m\n\u001b[1;32m   1236\u001b[0m                   \u001b[38;5;124m\"\u001b[39m\u001b[38;5;124mjax.vjp directly.\u001b[39m\u001b[38;5;124m\"\u001b[39m)\n",
      "\u001b[0;31mTypeError\u001b[0m: grad requires real-valued outputs (output dtype that is a sub-dtype of np.floating), but got int32. For differentiation of functions with integer outputs, use jax.vjp directly."
     ]
    }
   ],
   "source": [
    "func_dx( -1.0 )"
   ]
  },
  {
   "cell_type": "code",
   "execution_count": null,
   "id": "b74eda44",
   "metadata": {},
   "outputs": [],
   "source": []
  }
 ],
 "metadata": {
  "kernelspec": {
   "display_name": "Python 3 (ipykernel)",
   "language": "python",
   "name": "python3"
  },
  "language_info": {
   "codemirror_mode": {
    "name": "ipython",
    "version": 3
   },
   "file_extension": ".py",
   "mimetype": "text/x-python",
   "name": "python",
   "nbconvert_exporter": "python",
   "pygments_lexer": "ipython3",
   "version": "3.10.11"
  }
 },
 "nbformat": 4,
 "nbformat_minor": 5
}
